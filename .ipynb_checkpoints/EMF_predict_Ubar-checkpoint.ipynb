{
 "cells": [
  {
   "cell_type": "markdown",
   "id": "878c954b-de2e-4d98-bcca-d125b5ec2408",
   "metadata": {},
   "source": [
    "# Package"
   ]
  },
  {
   "cell_type": "code",
   "execution_count": 1,
   "id": "514b7e0a-7410-4d2e-81f0-1c9abebe68af",
   "metadata": {},
   "outputs": [],
   "source": [
    "#\n",
    "import numpy as np\n",
    "# Pytorch\n",
    "import torch\n",
    "torch.set_num_threads(8)\n",
    "import torch.nn as nn\n",
    "from torch.utils.data import TensorDataset, DataLoader\n",
    "# # Sklearn\n",
    "from sklearn.linear_model import LinearRegression\n",
    "from sklearn.feature_selection import mutual_info_regression\n",
    "#\n",
    "import matplotlib.pyplot as plt\n",
    "#\n",
    "import gc"
   ]
  },
  {
   "cell_type": "markdown",
   "id": "8be15a35-fb30-472f-8d45-4963d9531dd8",
   "metadata": {},
   "source": [
    "# Read dataset & Create Data"
   ]
  },
  {
   "cell_type": "code",
   "execution_count": 2,
   "id": "1c8b0cc9-3b79-42f2-a25c-9321fa71da55",
   "metadata": {},
   "outputs": [
    {
     "name": "stdout",
     "output_type": "stream",
     "text": [
      "Original dataset shape:  (640, 76000) (640, 76000)\n",
      "Formatted dataset shape:  (76000, 20) (76000, 1)\n"
     ]
    }
   ],
   "source": [
    "in_features = 20\n",
    "out_features = 1\n",
    "\n",
    "dataset = np.load(\"ML_Ubar_EMF_allmode.npz\")\n",
    "print(\"Original dataset shape: \", dataset[\"PC_Ubar\"].shape, dataset[\"PC_EMF\"].shape)\n",
    "\n",
    "# Formatter\n",
    "EMF_dataset = np.array(np.swapaxes(dataset[\"PC_EMF\"], 0,1), dtype = \"float32\")\n",
    "Ubar_dataset = np.array(np.swapaxes(dataset[\"PC_Ubar\"], 0,1), dtype = \"float32\")\n",
    "\n",
    "# Feature selection\n",
    "input_dataset = EMF_dataset[:,:in_features]\n",
    "output_dataset = Ubar_dataset[:,:out_features]\n",
    "print(\"Formatted dataset shape: \", input_dataset.shape, output_dataset.shape)\n",
    "del dataset\n",
    "del EMF_dataset\n",
    "del Ubar_dataset\n",
    "_ = gc.collect()"
   ]
  },
  {
   "cell_type": "code",
   "execution_count": 3,
   "id": "c289ce06-3f9d-4723-8973-9a4eb4d42cc5",
   "metadata": {},
   "outputs": [
    {
     "ename": "IndexError",
     "evalue": "index 75992 is out of bounds for axis 0 with size 75990",
     "output_type": "error",
     "traceback": [
      "\u001b[0;31m---------------------------------------------------------------------------\u001b[0m",
      "\u001b[0;31mIndexError\u001b[0m                                Traceback (most recent call last)",
      "Cell \u001b[0;32mIn[3], line 7\u001b[0m\n\u001b[1;32m      4\u001b[0m \u001b[38;5;66;03m# Target\u001b[39;00m\n\u001b[1;32m      5\u001b[0m \u001b[38;5;66;03m# Lead 1 prediction, AR(1)\u001b[39;00m\n\u001b[1;32m      6\u001b[0m lag_shift \u001b[38;5;241m=\u001b[39m \u001b[38;5;241m10\u001b[39m\n\u001b[0;32m----> 7\u001b[0m ML_input \u001b[38;5;241m=\u001b[39m \u001b[43minput_dataset\u001b[49m\u001b[43m[\u001b[49m\u001b[43m:\u001b[49m\u001b[38;5;241;43m-\u001b[39;49m\u001b[43mlag_shift\u001b[49m\u001b[43m,\u001b[49m\u001b[43m:\u001b[49m\u001b[43m]\u001b[49m\u001b[43m[\u001b[49m\u001b[43mrandom_shuffle_index\u001b[49m\u001b[43m]\u001b[49m\n\u001b[1;32m      8\u001b[0m ML_output \u001b[38;5;241m=\u001b[39m output_dataset[lag_shift:,:][random_shuffle_index]\n\u001b[1;32m     10\u001b[0m \u001b[38;5;66;03m# Divide ratio\u001b[39;00m\n",
      "\u001b[0;31mIndexError\u001b[0m: index 75992 is out of bounds for axis 0 with size 75990"
     ]
    }
   ],
   "source": [
    "lag_shift = 10\n",
    "# Shuffle\n",
    "random_shuffle_index = np.random.permutation(len(input_dataset)-lag_shift)\n",
    "\n",
    "# Target\n",
    "# Lead 1 prediction, AR(1)\n",
    "ML_input = input_dataset[:-lag_shift,:][random_shuffle_index]\n",
    "ML_output = output_dataset[lag_shift:,:][random_shuffle_index]\n",
    "\n",
    "# Divide ratio\n",
    "train_size = int(len(ML_input)*(12/16))\n",
    "valid_size = int(len(ML_input)*(1/16))\n",
    "test_size = len(ML_input) - train_size - valid_size\n",
    "\n",
    "\n",
    "# Simple verification\n",
    "print(\"Input dataset shape: \", ML_input.shape, ML_output.shape)\n",
    "plt.figure(figsize = (9, 9), dpi = 160)\n",
    "plt.rcParams.update({'font.size': 14})\n",
    "tmp = LinearRegression().fit(ML_input[:,:1], ML_output[:,:1])\n",
    "plt.scatter(ML_input[:,:1], ML_output[:,:1], label = \"Raw\", s = 1, color = \"r\")\n",
    "plt.scatter(ML_input[:,:1], tmp.predict(ML_input[:,:1])[:,:1], label = \"LR predict\", s = 1, color = \"b\")\n",
    "tmp = np.corrcoef(ML_input[:,0],  ML_output[:,0])[0,-1]\n",
    "plt.legend()\n",
    "plt.title(f\"first Ubar mode and first EMF mode \\nR = {tmp:4.4f}\")\n",
    "\n",
    "\n",
    "\n",
    "\n",
    "ML_input_train_set = ML_input[:train_size]\n",
    "ML_input_valid_set = ML_input[train_size:train_size+valid_size]\n",
    "ML_input_test_set = ML_input[train_size+valid_size:]\n",
    "ML_output_train_set = ML_output[:train_size]\n",
    "ML_output_valid_set = ML_output[train_size:train_size+valid_size]\n",
    "ML_output_test_set = ML_output[train_size+valid_size:]\n",
    "\n",
    "train_loader = DataLoader(TensorDataset(torch.from_numpy(ML_input_train_set[:]), torch.from_numpy(ML_output_train_set[:])),\n",
    "                          batch_size = 256,\n",
    "                          shuffle = True,\n",
    "                          pin_memory = True)\n",
    "valid_loader = DataLoader(TensorDataset(torch.from_numpy(ML_input_valid_set[:]), torch.from_numpy(ML_output_valid_set[:])),\n",
    "                          batch_size = 256,\n",
    "                          shuffle = False,\n",
    "                          pin_memory = True)\n",
    "test_loader = DataLoader(TensorDataset(torch.from_numpy(ML_input_test_set[:]), torch.from_numpy(ML_output_test_set[:])),\n",
    "                         batch_size = 256,\n",
    "                         shuffle = False,\n",
    "                         pin_memory = True)"
   ]
  },
  {
   "cell_type": "code",
   "execution_count": null,
   "id": "1f9f79b5-dd27-42d8-baf2-bf341b5eaf41",
   "metadata": {},
   "outputs": [],
   "source": [
    "class NonLinear_Model(nn.Module):\n",
    "    def __init__(self, mean, std):\n",
    "        super(NonLinear_Model, self).__init__()\n",
    "        self.BN0 = nn.BatchNorm1d(num_features = in_features)\n",
    "        self.fc1 = nn.Linear(in_features, 10)\n",
    "        self.act1= nn.LeakyReLU()\n",
    "        self.BN1 = nn.BatchNorm1d(num_features = 10)\n",
    "        self.fc2 = nn.Linear(10, 10)\n",
    "        self.act2= nn.LeakyReLU()\n",
    "        self.BN2 = nn.BatchNorm1d(num_features = 10)\n",
    "        self.fc3 = nn.Linear(10, out_features)\n",
    "        \n",
    "        self.mean = torch.from_numpy(mean)\n",
    "        self.std = torch.from_numpy(std)\n",
    "    def forward(self, x):\n",
    "        out = (x-self.mean)/self.std\n",
    "        out = self.BN0(out)\n",
    "        out = self.BN1(self.act1(self.fc1(out)))\n",
    "        out = self.BN2(self.act2(self.fc2(out)))\n",
    "        out = self.fc3(out)\n",
    "        return out"
   ]
  },
  {
   "cell_type": "code",
   "execution_count": null,
   "id": "5050945d-6ef2-46de-b8c0-187807afe961",
   "metadata": {},
   "outputs": [],
   "source": [
    "def Train_main(model, lr, wd, epochs, train_loader, valid_loader, test_loader):\n",
    "    optimizer = torch.optim.Adam(model.parameters(), \n",
    "                                 lr = lr, \n",
    "                                 weight_decay = wd)\n",
    "    criterion = nn.MSELoss(reduction='mean')\n",
    "    mean_train_loss_record = []\n",
    "    mean_valid_loss_record = []\n",
    "    for epoch in range(epochs):\n",
    "        model.train()\n",
    "        loss_record = []\n",
    "        for (x, y) in train_loader:\n",
    "            optimizer.zero_grad()\n",
    "            y_hat = model(x)\n",
    "            loss = criterion(y_hat[:], y[:])\n",
    "            loss.backward()\n",
    "            optimizer.step()\n",
    "            loss_record.append(loss.detach().item())\n",
    "        mean_train_loss_record.append(sum(loss_record)/len(loss_record))\n",
    "        model.eval()\n",
    "        loss_record = []\n",
    "        for (x, y) in valid_loader:\n",
    "            with torch.no_grad():\n",
    "                y_hat = model(x)\n",
    "                loss = criterion(y_hat[:], y[:])\n",
    "            loss_record.append(loss.item())\n",
    "        mean_valid_loss_record.append(sum(loss_record)/len(loss_record))\n",
    "        if (epoch%10==0):\n",
    "                    print(f'Epoch [{epoch+1}]: Train loss: {mean_train_loss_record[-1]:.7f}, Valid loss: {mean_valid_loss_record[-1]:.7f}')\n",
    "    return mean_train_loss_record, mean_valid_loss_record"
   ]
  },
  {
   "cell_type": "code",
   "execution_count": null,
   "id": "fba4830e-43cd-4bd4-9fd9-28a5ec4291d9",
   "metadata": {},
   "outputs": [],
   "source": [
    "regression = LinearRegression().fit(ML_input_train_set, ML_output_train_set)\n",
    "model = NonLinear_Model(ML_input_train_set[:].mean(axis = 0, keepdims = True), ML_input_train_set[:].std(axis = 0, keepdims = True))\n",
    "train_loss, valid_loss = Train_main(model, 1e-4, 1e0, 150, train_loader, valid_loader, test_loader)"
   ]
  },
  {
   "cell_type": "markdown",
   "id": "7b2654a2-0f18-47d7-be69-3d60055a7205",
   "metadata": {},
   "source": [
    "# Evaluate"
   ]
  },
  {
   "cell_type": "code",
   "execution_count": null,
   "id": "a3d1e494-ca03-4d44-a9bd-0b42b913a806",
   "metadata": {},
   "outputs": [],
   "source": [
    "model.eval()\n",
    "pred_data = model(torch.from_numpy(ML_input_test_set)).detach().numpy()"
   ]
  },
  {
   "cell_type": "code",
   "execution_count": null,
   "id": "14fff3cc-f6ff-4516-93de-db9e62fe5285",
   "metadata": {},
   "outputs": [],
   "source": [
    "plt.figure(figsize = (16, 9), dpi = 160)\n",
    "plt.rcParams.update({'font.size': 16})\n",
    "plt.plot(train_loss, \"-\", label = \"Train\")\n",
    "plt.plot(valid_loss, \"-\", label = \"Valid\")\n",
    "plt.legend(loc=1)\n",
    "plt.xlabel(\"Epoches\")\n",
    "plt.ylabel(\"MSE Loss\")\n",
    "plt.title(f\"MSELoss evolution\")"
   ]
  },
  {
   "cell_type": "code",
   "execution_count": null,
   "id": "5360f2b2-c969-46a8-b8c0-a2eb1094e289",
   "metadata": {},
   "outputs": [],
   "source": [
    "plt.figure(figsize = (16, 9), dpi = 160)\n",
    "plt.rcParams.update({'font.size': 16})\n",
    "plt.plot(ML_output_test_set[:,:1], \"-\", label = \"Raw\")\n",
    "plt.plot(pred_data[:,:1], \"-\", label = \"NonLinear\")\n",
    "plt.legend(loc=2)\n",
    "plt.xlabel(\"Time series\")\n",
    "plt.ylabel(\"Annular mode (Ubar PC1)\")\n",
    "plt.xlim(-100,14400)\n",
    "plt.title(f\"Annular mode prediction from EMF, *{in_features}\")\n",
    "\n",
    "plt.figure(figsize = (9, 9), dpi = 160)\n",
    "plt.rcParams.update({'font.size': 14})\n",
    "plt.scatter(ML_output_test_set[:,:1], pred_data[:,:1], s = 1, color = \"k\", label = \"Predict\")\n",
    "plt.plot([-200,200], [-200,200] , color = \"r\", label = \"Accurate\")\n",
    "plt.legend(loc=2)\n",
    "plt.xlabel(\"Predicted Annular mode\")\n",
    "plt.ylabel(\"Ground Truth Annular mode\")\n",
    "plt.xlim(-150,150)\n",
    "plt.ylim(-150,150)\n",
    "plt.title(f\"Annular mode prediction from EMF, *{in_features}\")"
   ]
  },
  {
   "cell_type": "code",
   "execution_count": null,
   "id": "e7d9d01e-925c-4e12-9612-3810fde93c16",
   "metadata": {},
   "outputs": [],
   "source": [
    "fig, axes = plt.subplots(nrows = 4, ncols = 5,\n",
    "                         figsize = (16,9), dpi = 160)\n",
    "\n",
    "for i,ax in enumerate(axes.flatten()):\n",
    "    ax.scatter(ML_input_test_set[:,i], ML_output_test_set[:,0], s = 1, color = \"k\", label = \"Predict\")\n",
    "    ax.scatter(ML_input_test_set[:,i], pred_data[:,0], s = 1, color = \"r\", label = \"Predict\")\n",
    "    ax.set_title(f\"EMF{i+1}\", fontsize = 16)\n",
    "plt.tight_layout()"
   ]
  },
  {
   "cell_type": "code",
   "execution_count": null,
   "id": "075b8ce7-19a3-4727-bb5e-8e117c4dfb25",
   "metadata": {},
   "outputs": [],
   "source": []
  }
 ],
 "metadata": {
  "kernelspec": {
   "display_name": "ML",
   "language": "python",
   "name": "ml"
  },
  "language_info": {
   "codemirror_mode": {
    "name": "ipython",
    "version": 3
   },
   "file_extension": ".py",
   "mimetype": "text/x-python",
   "name": "python",
   "nbconvert_exporter": "python",
   "pygments_lexer": "ipython3",
   "version": "3.11.9"
  }
 },
 "nbformat": 4,
 "nbformat_minor": 5
}
